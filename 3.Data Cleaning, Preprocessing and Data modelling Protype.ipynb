{
 "cells": [
  {
   "cell_type": "markdown",
   "id": "9455d52e",
   "metadata": {},
   "source": [
    "Author: Md Rakib Hasan\n",
    "\n",
    "Date:- 13-5-2023"
   ]
  },
  {
   "cell_type": "markdown",
   "id": "aa384b4e",
   "metadata": {},
   "source": [
    "# Project:  Data Cleaning and Process & Create Data Modelling Protype"
   ]
  },
  {
   "cell_type": "markdown",
   "id": "44492a99",
   "metadata": {},
   "source": [
    "About Dataset:\n",
    "    In Europe bikes dataset , Extract the insight of sales in each country\n",
    "    and each state of their countries.\n",
    "    In this dataset 18 columns and main column is sales , in this columns\n",
    "    Extract the value bale and meaningful insight from it\n",
    "    Sales According to male and female or Products\n",
    "    number of each product and its sales and so on."
   ]
  },
  {
   "cell_type": "markdown",
   "id": "e8a90d39",
   "metadata": {},
   "source": [
    "# Problem Statment: "
   ]
  },
  {
   "cell_type": "markdown",
   "id": "62e50f7a",
   "metadata": {},
   "source": [
    "As a stakeholder and owner of a Bike Company, a potential data analytics problem statement could be:\n",
    "\n",
    "\"How can we optimize our product offerings and pricing strategies to maximize profit based on customer demographics and purchase behavior?\"\n",
    "\n",
    "To address this problem, the following data analytics questions could be explored:\n",
    "\n",
    "Which age groups and genders are our most frequent customers, and what are their purchasing patterns?\n",
    "\n",
    "Which product categories and sub-categories generate the most revenue and profit for the company?\n",
    "\n",
    "Are there any geographic trends or patterns in customer behavior, such as certain states or countries having a higher demand for certain products?\n",
    "\n",
    "How does the unit cost of a product affect its profitability, and is there an optimal pricing strategy that maximizes revenue while minimizing costs?"
   ]
  },
  {
   "cell_type": "markdown",
   "id": "f16e7513",
   "metadata": {},
   "source": [
    "# Import important Library:"
   ]
  },
  {
   "cell_type": "code",
   "execution_count": 2,
   "id": "a97321b1",
   "metadata": {},
   "outputs": [],
   "source": [
    "import numpy as np\n",
    "import pandas as pd\n",
    "import matplotlib.pyplot as plt\n",
    "import seaborn as sns\n",
    "%matplotlib inline\n",
    "import warnings\n",
    "warnings.filterwarnings('ignore')"
   ]
  },
  {
   "cell_type": "markdown",
   "id": "c0ae830d",
   "metadata": {},
   "source": [
    "# Collect Data:"
   ]
  },
  {
   "cell_type": "code",
   "execution_count": 4,
   "id": "1cf961cf",
   "metadata": {},
   "outputs": [
    {
     "data": {
      "text/html": [
       "<div>\n",
       "<style scoped>\n",
       "    .dataframe tbody tr th:only-of-type {\n",
       "        vertical-align: middle;\n",
       "    }\n",
       "\n",
       "    .dataframe tbody tr th {\n",
       "        vertical-align: top;\n",
       "    }\n",
       "\n",
       "    .dataframe thead th {\n",
       "        text-align: right;\n",
       "    }\n",
       "</style>\n",
       "<table border=\"1\" class=\"dataframe\">\n",
       "  <thead>\n",
       "    <tr style=\"text-align: right;\">\n",
       "      <th></th>\n",
       "      <th>Date</th>\n",
       "      <th>Customer_Age</th>\n",
       "      <th>Age_Group</th>\n",
       "      <th>Customer_Gender</th>\n",
       "      <th>Country</th>\n",
       "      <th>State</th>\n",
       "      <th>Product_Category</th>\n",
       "      <th>Sub_Category</th>\n",
       "      <th>Product</th>\n",
       "      <th>Order_Quantity</th>\n",
       "      <th>Unit_Cost</th>\n",
       "      <th>Unit_Price</th>\n",
       "      <th>Profit</th>\n",
       "      <th>Cost</th>\n",
       "      <th>Revenue</th>\n",
       "    </tr>\n",
       "  </thead>\n",
       "  <tbody>\n",
       "    <tr>\n",
       "      <th>0</th>\n",
       "      <td>11/26/2020</td>\n",
       "      <td>19.0</td>\n",
       "      <td>Youth (&lt;25)</td>\n",
       "      <td>M</td>\n",
       "      <td>Canada</td>\n",
       "      <td>British Columbia</td>\n",
       "      <td>Accessories</td>\n",
       "      <td>Bike Racks</td>\n",
       "      <td>Hitch Rack - 4-Bike</td>\n",
       "      <td>8</td>\n",
       "      <td>45</td>\n",
       "      <td>120</td>\n",
       "      <td>590.0</td>\n",
       "      <td>360.0</td>\n",
       "      <td>950.0</td>\n",
       "    </tr>\n",
       "    <tr>\n",
       "      <th>1</th>\n",
       "      <td>11/26/2022</td>\n",
       "      <td>19.0</td>\n",
       "      <td>Youth (&lt;25)</td>\n",
       "      <td>M</td>\n",
       "      <td>Canada</td>\n",
       "      <td>British Columbia</td>\n",
       "      <td>Accessories</td>\n",
       "      <td>Bike Racks</td>\n",
       "      <td>Hitch Rack - 4-Bike</td>\n",
       "      <td>8</td>\n",
       "      <td>45</td>\n",
       "      <td>120</td>\n",
       "      <td>590.0</td>\n",
       "      <td>360.0</td>\n",
       "      <td>950.0</td>\n",
       "    </tr>\n",
       "    <tr>\n",
       "      <th>2</th>\n",
       "      <td>3/23/2021</td>\n",
       "      <td>49.0</td>\n",
       "      <td>Adults (35-64)</td>\n",
       "      <td>M</td>\n",
       "      <td>Australia</td>\n",
       "      <td>New South Wales</td>\n",
       "      <td>Accessories</td>\n",
       "      <td>Bike Racks</td>\n",
       "      <td>Hitch Rack - 4-Bike</td>\n",
       "      <td>23</td>\n",
       "      <td>45</td>\n",
       "      <td>120</td>\n",
       "      <td>1366.0</td>\n",
       "      <td>1035.0</td>\n",
       "      <td>2401.0</td>\n",
       "    </tr>\n",
       "    <tr>\n",
       "      <th>3</th>\n",
       "      <td>3/23/2022</td>\n",
       "      <td>49.0</td>\n",
       "      <td>Adults (35-64)</td>\n",
       "      <td>M</td>\n",
       "      <td>Australia</td>\n",
       "      <td>New South Wales</td>\n",
       "      <td>Accessories</td>\n",
       "      <td>Bike Racks</td>\n",
       "      <td>Hitch Rack - 4-Bike</td>\n",
       "      <td>20</td>\n",
       "      <td>45</td>\n",
       "      <td>120</td>\n",
       "      <td>1188.0</td>\n",
       "      <td>900.0</td>\n",
       "      <td>2088.0</td>\n",
       "    </tr>\n",
       "    <tr>\n",
       "      <th>4</th>\n",
       "      <td>5/15/2021</td>\n",
       "      <td>47.0</td>\n",
       "      <td>Adults (35-64)</td>\n",
       "      <td>F</td>\n",
       "      <td>Australia</td>\n",
       "      <td>New South Wales</td>\n",
       "      <td>Accessories</td>\n",
       "      <td>Bike Racks</td>\n",
       "      <td>Hitch Rack - 4-Bike</td>\n",
       "      <td>4</td>\n",
       "      <td>45</td>\n",
       "      <td>120</td>\n",
       "      <td>238.0</td>\n",
       "      <td>180.0</td>\n",
       "      <td>418.0</td>\n",
       "    </tr>\n",
       "    <tr>\n",
       "      <th>...</th>\n",
       "      <td>...</td>\n",
       "      <td>...</td>\n",
       "      <td>...</td>\n",
       "      <td>...</td>\n",
       "      <td>...</td>\n",
       "      <td>...</td>\n",
       "      <td>...</td>\n",
       "      <td>...</td>\n",
       "      <td>...</td>\n",
       "      <td>...</td>\n",
       "      <td>...</td>\n",
       "      <td>...</td>\n",
       "      <td>...</td>\n",
       "      <td>...</td>\n",
       "      <td>...</td>\n",
       "    </tr>\n",
       "    <tr>\n",
       "      <th>113024</th>\n",
       "      <td>12/7/2022</td>\n",
       "      <td>27.0</td>\n",
       "      <td>Young Adults (25-34)</td>\n",
       "      <td>M</td>\n",
       "      <td>United Kingdom</td>\n",
       "      <td>England</td>\n",
       "      <td>Clothing</td>\n",
       "      <td>Jerseys</td>\n",
       "      <td>Short-Sleeve Classic Jersey, S</td>\n",
       "      <td>5</td>\n",
       "      <td>42</td>\n",
       "      <td>54</td>\n",
       "      <td>49.0</td>\n",
       "      <td>210.0</td>\n",
       "      <td>259.0</td>\n",
       "    </tr>\n",
       "    <tr>\n",
       "      <th>113025</th>\n",
       "      <td>12/19/2020</td>\n",
       "      <td>27.0</td>\n",
       "      <td>Young Adults (25-34)</td>\n",
       "      <td>M</td>\n",
       "      <td>United Kingdom</td>\n",
       "      <td>England</td>\n",
       "      <td>Clothing</td>\n",
       "      <td>Jerseys</td>\n",
       "      <td>Short-Sleeve Classic Jersey, S</td>\n",
       "      <td>22</td>\n",
       "      <td>42</td>\n",
       "      <td>54</td>\n",
       "      <td>216.0</td>\n",
       "      <td>924.0</td>\n",
       "      <td>1140.0</td>\n",
       "    </tr>\n",
       "    <tr>\n",
       "      <th>113026</th>\n",
       "      <td>12/19/2022</td>\n",
       "      <td>27.0</td>\n",
       "      <td>Young Adults (25-34)</td>\n",
       "      <td>M</td>\n",
       "      <td>United Kingdom</td>\n",
       "      <td>England</td>\n",
       "      <td>Clothing</td>\n",
       "      <td>Jerseys</td>\n",
       "      <td>Short-Sleeve Classic Jersey, S</td>\n",
       "      <td>24</td>\n",
       "      <td>42</td>\n",
       "      <td>54</td>\n",
       "      <td>236.0</td>\n",
       "      <td>1008.0</td>\n",
       "      <td>1244.0</td>\n",
       "    </tr>\n",
       "    <tr>\n",
       "      <th>113027</th>\n",
       "      <td>4/15/2021</td>\n",
       "      <td>27.0</td>\n",
       "      <td>Young Adults (25-34)</td>\n",
       "      <td>M</td>\n",
       "      <td>United Kingdom</td>\n",
       "      <td>England</td>\n",
       "      <td>Clothing</td>\n",
       "      <td>Jerseys</td>\n",
       "      <td>Short-Sleeve Classic Jersey, S</td>\n",
       "      <td>15</td>\n",
       "      <td>42</td>\n",
       "      <td>54</td>\n",
       "      <td>148.0</td>\n",
       "      <td>630.0</td>\n",
       "      <td>778.0</td>\n",
       "    </tr>\n",
       "    <tr>\n",
       "      <th>113028</th>\n",
       "      <td>4/15/2022</td>\n",
       "      <td>27.0</td>\n",
       "      <td>Young Adults (25-34)</td>\n",
       "      <td>Male</td>\n",
       "      <td>United Kingdom</td>\n",
       "      <td>England</td>\n",
       "      <td>Clothing</td>\n",
       "      <td>Jerseys</td>\n",
       "      <td>Short-Sleeve Classic Jersey, S</td>\n",
       "      <td>15</td>\n",
       "      <td>42</td>\n",
       "      <td>54</td>\n",
       "      <td>148.0</td>\n",
       "      <td>630.0</td>\n",
       "      <td>778.0</td>\n",
       "    </tr>\n",
       "  </tbody>\n",
       "</table>\n",
       "<p>113029 rows × 15 columns</p>\n",
       "</div>"
      ],
      "text/plain": [
       "              Date  Customer_Age             Age_Group Customer_Gender  \\\n",
       "0       11/26/2020          19.0           Youth (<25)               M   \n",
       "1       11/26/2022          19.0           Youth (<25)               M   \n",
       "2        3/23/2021          49.0        Adults (35-64)               M   \n",
       "3        3/23/2022          49.0        Adults (35-64)               M   \n",
       "4        5/15/2021          47.0        Adults (35-64)               F   \n",
       "...            ...           ...                   ...             ...   \n",
       "113024   12/7/2022          27.0  Young Adults (25-34)               M   \n",
       "113025  12/19/2020          27.0  Young Adults (25-34)               M   \n",
       "113026  12/19/2022          27.0  Young Adults (25-34)               M   \n",
       "113027   4/15/2021          27.0  Young Adults (25-34)               M   \n",
       "113028   4/15/2022          27.0  Young Adults (25-34)            Male   \n",
       "\n",
       "               Country             State Product_Category Sub_Category  \\\n",
       "0               Canada  British Columbia      Accessories   Bike Racks   \n",
       "1               Canada  British Columbia      Accessories   Bike Racks   \n",
       "2            Australia   New South Wales      Accessories   Bike Racks   \n",
       "3            Australia   New South Wales      Accessories   Bike Racks   \n",
       "4            Australia   New South Wales      Accessories   Bike Racks   \n",
       "...                ...               ...              ...          ...   \n",
       "113024  United Kingdom           England         Clothing      Jerseys   \n",
       "113025  United Kingdom           England         Clothing      Jerseys   \n",
       "113026  United Kingdom           England         Clothing      Jerseys   \n",
       "113027  United Kingdom           England         Clothing      Jerseys   \n",
       "113028  United Kingdom           England         Clothing      Jerseys   \n",
       "\n",
       "                               Product  Order_Quantity  Unit_Cost  Unit_Price  \\\n",
       "0                  Hitch Rack - 4-Bike               8         45         120   \n",
       "1                  Hitch Rack - 4-Bike               8         45         120   \n",
       "2                  Hitch Rack - 4-Bike              23         45         120   \n",
       "3                  Hitch Rack - 4-Bike              20         45         120   \n",
       "4                  Hitch Rack - 4-Bike               4         45         120   \n",
       "...                                ...             ...        ...         ...   \n",
       "113024  Short-Sleeve Classic Jersey, S               5         42          54   \n",
       "113025  Short-Sleeve Classic Jersey, S              22         42          54   \n",
       "113026  Short-Sleeve Classic Jersey, S              24         42          54   \n",
       "113027  Short-Sleeve Classic Jersey, S              15         42          54   \n",
       "113028  Short-Sleeve Classic Jersey, S              15         42          54   \n",
       "\n",
       "        Profit    Cost  Revenue  \n",
       "0        590.0   360.0    950.0  \n",
       "1        590.0   360.0    950.0  \n",
       "2       1366.0  1035.0   2401.0  \n",
       "3       1188.0   900.0   2088.0  \n",
       "4        238.0   180.0    418.0  \n",
       "...        ...     ...      ...  \n",
       "113024    49.0   210.0    259.0  \n",
       "113025   216.0   924.0   1140.0  \n",
       "113026   236.0  1008.0   1244.0  \n",
       "113027   148.0   630.0    778.0  \n",
       "113028   148.0   630.0    778.0  \n",
       "\n",
       "[113029 rows x 15 columns]"
      ]
     },
     "execution_count": 4,
     "metadata": {},
     "output_type": "execute_result"
    }
   ],
   "source": [
    "df=pd.read_csv(r\"F:\\Data Analyst\\Project\\Analytis Engineer Project\\1. Sales Dataset.csv\")\n",
    "df"
   ]
  },
  {
   "cell_type": "markdown",
   "id": "a223b885",
   "metadata": {},
   "source": [
    "# Understanding Data:"
   ]
  },
  {
   "cell_type": "code",
   "execution_count": 5,
   "id": "c1f9df02",
   "metadata": {},
   "outputs": [
    {
     "data": {
      "text/html": [
       "<div>\n",
       "<style scoped>\n",
       "    .dataframe tbody tr th:only-of-type {\n",
       "        vertical-align: middle;\n",
       "    }\n",
       "\n",
       "    .dataframe tbody tr th {\n",
       "        vertical-align: top;\n",
       "    }\n",
       "\n",
       "    .dataframe thead th {\n",
       "        text-align: right;\n",
       "    }\n",
       "</style>\n",
       "<table border=\"1\" class=\"dataframe\">\n",
       "  <thead>\n",
       "    <tr style=\"text-align: right;\">\n",
       "      <th></th>\n",
       "      <th>Date</th>\n",
       "      <th>Customer_Age</th>\n",
       "      <th>Age_Group</th>\n",
       "      <th>Customer_Gender</th>\n",
       "      <th>Country</th>\n",
       "      <th>State</th>\n",
       "      <th>Product_Category</th>\n",
       "      <th>Sub_Category</th>\n",
       "      <th>Product</th>\n",
       "      <th>Order_Quantity</th>\n",
       "      <th>Unit_Cost</th>\n",
       "      <th>Unit_Price</th>\n",
       "      <th>Profit</th>\n",
       "      <th>Cost</th>\n",
       "      <th>Revenue</th>\n",
       "    </tr>\n",
       "  </thead>\n",
       "  <tbody>\n",
       "    <tr>\n",
       "      <th>0</th>\n",
       "      <td>11/26/2020</td>\n",
       "      <td>19.0</td>\n",
       "      <td>Youth (&lt;25)</td>\n",
       "      <td>M</td>\n",
       "      <td>Canada</td>\n",
       "      <td>British Columbia</td>\n",
       "      <td>Accessories</td>\n",
       "      <td>Bike Racks</td>\n",
       "      <td>Hitch Rack - 4-Bike</td>\n",
       "      <td>8</td>\n",
       "      <td>45</td>\n",
       "      <td>120</td>\n",
       "      <td>590.0</td>\n",
       "      <td>360.0</td>\n",
       "      <td>950.0</td>\n",
       "    </tr>\n",
       "    <tr>\n",
       "      <th>1</th>\n",
       "      <td>11/26/2022</td>\n",
       "      <td>19.0</td>\n",
       "      <td>Youth (&lt;25)</td>\n",
       "      <td>M</td>\n",
       "      <td>Canada</td>\n",
       "      <td>British Columbia</td>\n",
       "      <td>Accessories</td>\n",
       "      <td>Bike Racks</td>\n",
       "      <td>Hitch Rack - 4-Bike</td>\n",
       "      <td>8</td>\n",
       "      <td>45</td>\n",
       "      <td>120</td>\n",
       "      <td>590.0</td>\n",
       "      <td>360.0</td>\n",
       "      <td>950.0</td>\n",
       "    </tr>\n",
       "    <tr>\n",
       "      <th>2</th>\n",
       "      <td>3/23/2021</td>\n",
       "      <td>49.0</td>\n",
       "      <td>Adults (35-64)</td>\n",
       "      <td>M</td>\n",
       "      <td>Australia</td>\n",
       "      <td>New South Wales</td>\n",
       "      <td>Accessories</td>\n",
       "      <td>Bike Racks</td>\n",
       "      <td>Hitch Rack - 4-Bike</td>\n",
       "      <td>23</td>\n",
       "      <td>45</td>\n",
       "      <td>120</td>\n",
       "      <td>1366.0</td>\n",
       "      <td>1035.0</td>\n",
       "      <td>2401.0</td>\n",
       "    </tr>\n",
       "    <tr>\n",
       "      <th>3</th>\n",
       "      <td>3/23/2022</td>\n",
       "      <td>49.0</td>\n",
       "      <td>Adults (35-64)</td>\n",
       "      <td>M</td>\n",
       "      <td>Australia</td>\n",
       "      <td>New South Wales</td>\n",
       "      <td>Accessories</td>\n",
       "      <td>Bike Racks</td>\n",
       "      <td>Hitch Rack - 4-Bike</td>\n",
       "      <td>20</td>\n",
       "      <td>45</td>\n",
       "      <td>120</td>\n",
       "      <td>1188.0</td>\n",
       "      <td>900.0</td>\n",
       "      <td>2088.0</td>\n",
       "    </tr>\n",
       "    <tr>\n",
       "      <th>4</th>\n",
       "      <td>5/15/2021</td>\n",
       "      <td>47.0</td>\n",
       "      <td>Adults (35-64)</td>\n",
       "      <td>F</td>\n",
       "      <td>Australia</td>\n",
       "      <td>New South Wales</td>\n",
       "      <td>Accessories</td>\n",
       "      <td>Bike Racks</td>\n",
       "      <td>Hitch Rack - 4-Bike</td>\n",
       "      <td>4</td>\n",
       "      <td>45</td>\n",
       "      <td>120</td>\n",
       "      <td>238.0</td>\n",
       "      <td>180.0</td>\n",
       "      <td>418.0</td>\n",
       "    </tr>\n",
       "  </tbody>\n",
       "</table>\n",
       "</div>"
      ],
      "text/plain": [
       "         Date  Customer_Age       Age_Group Customer_Gender    Country  \\\n",
       "0  11/26/2020          19.0     Youth (<25)               M     Canada   \n",
       "1  11/26/2022          19.0     Youth (<25)               M     Canada   \n",
       "2   3/23/2021          49.0  Adults (35-64)               M  Australia   \n",
       "3   3/23/2022          49.0  Adults (35-64)               M  Australia   \n",
       "4   5/15/2021          47.0  Adults (35-64)               F  Australia   \n",
       "\n",
       "              State Product_Category Sub_Category              Product  \\\n",
       "0  British Columbia      Accessories   Bike Racks  Hitch Rack - 4-Bike   \n",
       "1  British Columbia      Accessories   Bike Racks  Hitch Rack - 4-Bike   \n",
       "2   New South Wales      Accessories   Bike Racks  Hitch Rack - 4-Bike   \n",
       "3   New South Wales      Accessories   Bike Racks  Hitch Rack - 4-Bike   \n",
       "4   New South Wales      Accessories   Bike Racks  Hitch Rack - 4-Bike   \n",
       "\n",
       "   Order_Quantity  Unit_Cost  Unit_Price  Profit    Cost  Revenue  \n",
       "0               8         45         120   590.0   360.0    950.0  \n",
       "1               8         45         120   590.0   360.0    950.0  \n",
       "2              23         45         120  1366.0  1035.0   2401.0  \n",
       "3              20         45         120  1188.0   900.0   2088.0  \n",
       "4               4         45         120   238.0   180.0    418.0  "
      ]
     },
     "execution_count": 5,
     "metadata": {},
     "output_type": "execute_result"
    }
   ],
   "source": [
    "# to show first five rows\n",
    "df.head(5)"
   ]
  },
  {
   "cell_type": "code",
   "execution_count": 6,
   "id": "8570f7c0",
   "metadata": {},
   "outputs": [
    {
     "data": {
      "text/html": [
       "<div>\n",
       "<style scoped>\n",
       "    .dataframe tbody tr th:only-of-type {\n",
       "        vertical-align: middle;\n",
       "    }\n",
       "\n",
       "    .dataframe tbody tr th {\n",
       "        vertical-align: top;\n",
       "    }\n",
       "\n",
       "    .dataframe thead th {\n",
       "        text-align: right;\n",
       "    }\n",
       "</style>\n",
       "<table border=\"1\" class=\"dataframe\">\n",
       "  <thead>\n",
       "    <tr style=\"text-align: right;\">\n",
       "      <th></th>\n",
       "      <th>Date</th>\n",
       "      <th>Customer_Age</th>\n",
       "      <th>Age_Group</th>\n",
       "      <th>Customer_Gender</th>\n",
       "      <th>Country</th>\n",
       "      <th>State</th>\n",
       "      <th>Product_Category</th>\n",
       "      <th>Sub_Category</th>\n",
       "      <th>Product</th>\n",
       "      <th>Order_Quantity</th>\n",
       "      <th>Unit_Cost</th>\n",
       "      <th>Unit_Price</th>\n",
       "      <th>Profit</th>\n",
       "      <th>Cost</th>\n",
       "      <th>Revenue</th>\n",
       "    </tr>\n",
       "  </thead>\n",
       "  <tbody>\n",
       "    <tr>\n",
       "      <th>113024</th>\n",
       "      <td>12/7/2022</td>\n",
       "      <td>27.0</td>\n",
       "      <td>Young Adults (25-34)</td>\n",
       "      <td>M</td>\n",
       "      <td>United Kingdom</td>\n",
       "      <td>England</td>\n",
       "      <td>Clothing</td>\n",
       "      <td>Jerseys</td>\n",
       "      <td>Short-Sleeve Classic Jersey, S</td>\n",
       "      <td>5</td>\n",
       "      <td>42</td>\n",
       "      <td>54</td>\n",
       "      <td>49.0</td>\n",
       "      <td>210.0</td>\n",
       "      <td>259.0</td>\n",
       "    </tr>\n",
       "    <tr>\n",
       "      <th>113025</th>\n",
       "      <td>12/19/2020</td>\n",
       "      <td>27.0</td>\n",
       "      <td>Young Adults (25-34)</td>\n",
       "      <td>M</td>\n",
       "      <td>United Kingdom</td>\n",
       "      <td>England</td>\n",
       "      <td>Clothing</td>\n",
       "      <td>Jerseys</td>\n",
       "      <td>Short-Sleeve Classic Jersey, S</td>\n",
       "      <td>22</td>\n",
       "      <td>42</td>\n",
       "      <td>54</td>\n",
       "      <td>216.0</td>\n",
       "      <td>924.0</td>\n",
       "      <td>1140.0</td>\n",
       "    </tr>\n",
       "    <tr>\n",
       "      <th>113026</th>\n",
       "      <td>12/19/2022</td>\n",
       "      <td>27.0</td>\n",
       "      <td>Young Adults (25-34)</td>\n",
       "      <td>M</td>\n",
       "      <td>United Kingdom</td>\n",
       "      <td>England</td>\n",
       "      <td>Clothing</td>\n",
       "      <td>Jerseys</td>\n",
       "      <td>Short-Sleeve Classic Jersey, S</td>\n",
       "      <td>24</td>\n",
       "      <td>42</td>\n",
       "      <td>54</td>\n",
       "      <td>236.0</td>\n",
       "      <td>1008.0</td>\n",
       "      <td>1244.0</td>\n",
       "    </tr>\n",
       "    <tr>\n",
       "      <th>113027</th>\n",
       "      <td>4/15/2021</td>\n",
       "      <td>27.0</td>\n",
       "      <td>Young Adults (25-34)</td>\n",
       "      <td>M</td>\n",
       "      <td>United Kingdom</td>\n",
       "      <td>England</td>\n",
       "      <td>Clothing</td>\n",
       "      <td>Jerseys</td>\n",
       "      <td>Short-Sleeve Classic Jersey, S</td>\n",
       "      <td>15</td>\n",
       "      <td>42</td>\n",
       "      <td>54</td>\n",
       "      <td>148.0</td>\n",
       "      <td>630.0</td>\n",
       "      <td>778.0</td>\n",
       "    </tr>\n",
       "    <tr>\n",
       "      <th>113028</th>\n",
       "      <td>4/15/2022</td>\n",
       "      <td>27.0</td>\n",
       "      <td>Young Adults (25-34)</td>\n",
       "      <td>Male</td>\n",
       "      <td>United Kingdom</td>\n",
       "      <td>England</td>\n",
       "      <td>Clothing</td>\n",
       "      <td>Jerseys</td>\n",
       "      <td>Short-Sleeve Classic Jersey, S</td>\n",
       "      <td>15</td>\n",
       "      <td>42</td>\n",
       "      <td>54</td>\n",
       "      <td>148.0</td>\n",
       "      <td>630.0</td>\n",
       "      <td>778.0</td>\n",
       "    </tr>\n",
       "  </tbody>\n",
       "</table>\n",
       "</div>"
      ],
      "text/plain": [
       "              Date  Customer_Age             Age_Group Customer_Gender  \\\n",
       "113024   12/7/2022          27.0  Young Adults (25-34)               M   \n",
       "113025  12/19/2020          27.0  Young Adults (25-34)               M   \n",
       "113026  12/19/2022          27.0  Young Adults (25-34)               M   \n",
       "113027   4/15/2021          27.0  Young Adults (25-34)               M   \n",
       "113028   4/15/2022          27.0  Young Adults (25-34)            Male   \n",
       "\n",
       "               Country    State Product_Category Sub_Category  \\\n",
       "113024  United Kingdom  England         Clothing      Jerseys   \n",
       "113025  United Kingdom  England         Clothing      Jerseys   \n",
       "113026  United Kingdom  England         Clothing      Jerseys   \n",
       "113027  United Kingdom  England         Clothing      Jerseys   \n",
       "113028  United Kingdom  England         Clothing      Jerseys   \n",
       "\n",
       "                               Product  Order_Quantity  Unit_Cost  Unit_Price  \\\n",
       "113024  Short-Sleeve Classic Jersey, S               5         42          54   \n",
       "113025  Short-Sleeve Classic Jersey, S              22         42          54   \n",
       "113026  Short-Sleeve Classic Jersey, S              24         42          54   \n",
       "113027  Short-Sleeve Classic Jersey, S              15         42          54   \n",
       "113028  Short-Sleeve Classic Jersey, S              15         42          54   \n",
       "\n",
       "        Profit    Cost  Revenue  \n",
       "113024    49.0   210.0    259.0  \n",
       "113025   216.0   924.0   1140.0  \n",
       "113026   236.0  1008.0   1244.0  \n",
       "113027   148.0   630.0    778.0  \n",
       "113028   148.0   630.0    778.0  "
      ]
     },
     "execution_count": 6,
     "metadata": {},
     "output_type": "execute_result"
    }
   ],
   "source": [
    "# to show last five rows\n",
    "df.tail(5)"
   ]
  },
  {
   "cell_type": "code",
   "execution_count": 7,
   "id": "04a1eda0",
   "metadata": {},
   "outputs": [
    {
     "data": {
      "text/html": [
       "<div>\n",
       "<style scoped>\n",
       "    .dataframe tbody tr th:only-of-type {\n",
       "        vertical-align: middle;\n",
       "    }\n",
       "\n",
       "    .dataframe tbody tr th {\n",
       "        vertical-align: top;\n",
       "    }\n",
       "\n",
       "    .dataframe thead th {\n",
       "        text-align: right;\n",
       "    }\n",
       "</style>\n",
       "<table border=\"1\" class=\"dataframe\">\n",
       "  <thead>\n",
       "    <tr style=\"text-align: right;\">\n",
       "      <th></th>\n",
       "      <th>Date</th>\n",
       "      <th>Customer_Age</th>\n",
       "      <th>Age_Group</th>\n",
       "      <th>Customer_Gender</th>\n",
       "      <th>Country</th>\n",
       "      <th>State</th>\n",
       "      <th>Product_Category</th>\n",
       "      <th>Sub_Category</th>\n",
       "      <th>Product</th>\n",
       "      <th>Order_Quantity</th>\n",
       "      <th>Unit_Cost</th>\n",
       "      <th>Unit_Price</th>\n",
       "      <th>Profit</th>\n",
       "      <th>Cost</th>\n",
       "      <th>Revenue</th>\n",
       "    </tr>\n",
       "  </thead>\n",
       "  <tbody>\n",
       "    <tr>\n",
       "      <th>68625</th>\n",
       "      <td>4/25/2022</td>\n",
       "      <td>17.0</td>\n",
       "      <td>Youth (&lt;25)</td>\n",
       "      <td>M</td>\n",
       "      <td>Germany</td>\n",
       "      <td>Nordrhein-Westfalen</td>\n",
       "      <td>Bikes</td>\n",
       "      <td>Road Bikes</td>\n",
       "      <td>Road-550-W Yellow, 48</td>\n",
       "      <td>1</td>\n",
       "      <td>713</td>\n",
       "      <td>1120</td>\n",
       "      <td>261.0</td>\n",
       "      <td>713.0</td>\n",
       "      <td>974.0</td>\n",
       "    </tr>\n",
       "    <tr>\n",
       "      <th>50046</th>\n",
       "      <td>9/13/2020</td>\n",
       "      <td>30.0</td>\n",
       "      <td>Young Adults (25-34)</td>\n",
       "      <td>M</td>\n",
       "      <td>Australia</td>\n",
       "      <td>Tasmania</td>\n",
       "      <td>Bikes</td>\n",
       "      <td>Mountain Bikes</td>\n",
       "      <td>Mountain-100 Silver, 38</td>\n",
       "      <td>1</td>\n",
       "      <td>1912</td>\n",
       "      <td>3400</td>\n",
       "      <td>842.0</td>\n",
       "      <td>1912.0</td>\n",
       "      <td>2754.0</td>\n",
       "    </tr>\n",
       "    <tr>\n",
       "      <th>104266</th>\n",
       "      <td>12/25/2020</td>\n",
       "      <td>42.0</td>\n",
       "      <td>Adults (35-64)</td>\n",
       "      <td>F</td>\n",
       "      <td>United States</td>\n",
       "      <td>Washington</td>\n",
       "      <td>Accessories</td>\n",
       "      <td>Tires and Tubes</td>\n",
       "      <td>Touring Tire Tube</td>\n",
       "      <td>30</td>\n",
       "      <td>2</td>\n",
       "      <td>5</td>\n",
       "      <td>57.0</td>\n",
       "      <td>60.0</td>\n",
       "      <td>117.0</td>\n",
       "    </tr>\n",
       "    <tr>\n",
       "      <th>42473</th>\n",
       "      <td>5/20/2022</td>\n",
       "      <td>41.0</td>\n",
       "      <td>Adults (35-64)</td>\n",
       "      <td>F</td>\n",
       "      <td>Australia</td>\n",
       "      <td>Queensland</td>\n",
       "      <td>Accessories</td>\n",
       "      <td>Hydration Packs</td>\n",
       "      <td>Hydration Pack - 70 oz.</td>\n",
       "      <td>9</td>\n",
       "      <td>21</td>\n",
       "      <td>55</td>\n",
       "      <td>227.0</td>\n",
       "      <td>189.0</td>\n",
       "      <td>416.0</td>\n",
       "    </tr>\n",
       "    <tr>\n",
       "      <th>109352</th>\n",
       "      <td>7/31/2020</td>\n",
       "      <td>51.0</td>\n",
       "      <td>Adults (35-64)</td>\n",
       "      <td>F</td>\n",
       "      <td>Germany</td>\n",
       "      <td>Hessen</td>\n",
       "      <td>Bikes</td>\n",
       "      <td>Touring Bikes</td>\n",
       "      <td>Touring-3000 Yellow, 62</td>\n",
       "      <td>1</td>\n",
       "      <td>461</td>\n",
       "      <td>742</td>\n",
       "      <td>229.0</td>\n",
       "      <td>461.0</td>\n",
       "      <td>690.0</td>\n",
       "    </tr>\n",
       "  </tbody>\n",
       "</table>\n",
       "</div>"
      ],
      "text/plain": [
       "              Date  Customer_Age             Age_Group Customer_Gender  \\\n",
       "68625    4/25/2022          17.0           Youth (<25)               M   \n",
       "50046    9/13/2020          30.0  Young Adults (25-34)               M   \n",
       "104266  12/25/2020          42.0        Adults (35-64)               F   \n",
       "42473    5/20/2022          41.0        Adults (35-64)               F   \n",
       "109352   7/31/2020          51.0        Adults (35-64)               F   \n",
       "\n",
       "              Country                State Product_Category     Sub_Category  \\\n",
       "68625         Germany  Nordrhein-Westfalen            Bikes       Road Bikes   \n",
       "50046       Australia             Tasmania            Bikes   Mountain Bikes   \n",
       "104266  United States           Washington      Accessories  Tires and Tubes   \n",
       "42473       Australia           Queensland      Accessories  Hydration Packs   \n",
       "109352        Germany               Hessen            Bikes    Touring Bikes   \n",
       "\n",
       "                        Product  Order_Quantity  Unit_Cost  Unit_Price  \\\n",
       "68625     Road-550-W Yellow, 48               1        713        1120   \n",
       "50046   Mountain-100 Silver, 38               1       1912        3400   \n",
       "104266        Touring Tire Tube              30          2           5   \n",
       "42473   Hydration Pack - 70 oz.               9         21          55   \n",
       "109352  Touring-3000 Yellow, 62               1        461         742   \n",
       "\n",
       "        Profit    Cost  Revenue  \n",
       "68625    261.0   713.0    974.0  \n",
       "50046    842.0  1912.0   2754.0  \n",
       "104266    57.0    60.0    117.0  \n",
       "42473    227.0   189.0    416.0  \n",
       "109352   229.0   461.0    690.0  "
      ]
     },
     "execution_count": 7,
     "metadata": {},
     "output_type": "execute_result"
    }
   ],
   "source": [
    "# to show random five rows\n",
    "df.sample(5)"
   ]
  },
  {
   "cell_type": "code",
   "execution_count": 8,
   "id": "385d5079",
   "metadata": {},
   "outputs": [
    {
     "data": {
      "text/plain": [
       "(113029, 15)"
      ]
     },
     "execution_count": 8,
     "metadata": {},
     "output_type": "execute_result"
    }
   ],
   "source": [
    "# to show data shape\n",
    "df.shape"
   ]
  },
  {
   "cell_type": "code",
   "execution_count": 9,
   "id": "4158f4d0",
   "metadata": {},
   "outputs": [
    {
     "data": {
      "text/plain": [
       "Index(['Date', 'Customer_Age', 'Age_Group', 'Customer_Gender', 'Country',\n",
       "       'State', 'Product_Category', 'Sub_Category', 'Product',\n",
       "       'Order_Quantity', 'Unit_Cost', 'Unit_Price', 'Profit', 'Cost',\n",
       "       'Revenue'],\n",
       "      dtype='object')"
      ]
     },
     "execution_count": 9,
     "metadata": {},
     "output_type": "execute_result"
    }
   ],
   "source": [
    "# to show olumns name\n",
    "df.columns"
   ]
  },
  {
   "cell_type": "code",
   "execution_count": 10,
   "id": "7c3ef92f",
   "metadata": {},
   "outputs": [
    {
     "data": {
      "text/plain": [
       "1695435"
      ]
     },
     "execution_count": 10,
     "metadata": {},
     "output_type": "execute_result"
    }
   ],
   "source": [
    "# to show data size\n",
    "df.size"
   ]
  },
  {
   "cell_type": "code",
   "execution_count": 11,
   "id": "a7a1195c",
   "metadata": {},
   "outputs": [
    {
     "data": {
      "text/plain": [
       "Date                 object\n",
       "Customer_Age        float64\n",
       "Age_Group            object\n",
       "Customer_Gender      object\n",
       "Country              object\n",
       "State                object\n",
       "Product_Category     object\n",
       "Sub_Category         object\n",
       "Product              object\n",
       "Order_Quantity        int64\n",
       "Unit_Cost             int64\n",
       "Unit_Price            int64\n",
       "Profit              float64\n",
       "Cost                float64\n",
       "Revenue             float64\n",
       "dtype: object"
      ]
     },
     "execution_count": 11,
     "metadata": {},
     "output_type": "execute_result"
    }
   ],
   "source": [
    "# to show data type\n",
    "df.dtypes"
   ]
  },
  {
   "cell_type": "code",
   "execution_count": 12,
   "id": "ce4ab37e",
   "metadata": {},
   "outputs": [
    {
     "name": "stdout",
     "output_type": "stream",
     "text": [
      "<class 'pandas.core.frame.DataFrame'>\n",
      "RangeIndex: 113029 entries, 0 to 113028\n",
      "Data columns (total 15 columns):\n",
      " #   Column            Non-Null Count   Dtype  \n",
      "---  ------            --------------   -----  \n",
      " 0   Date              113029 non-null  object \n",
      " 1   Customer_Age      112998 non-null  float64\n",
      " 2   Age_Group         112975 non-null  object \n",
      " 3   Customer_Gender   113029 non-null  object \n",
      " 4   Country           113025 non-null  object \n",
      " 5   State             113020 non-null  object \n",
      " 6   Product_Category  113028 non-null  object \n",
      " 7   Sub_Category      113029 non-null  object \n",
      " 8   Product           113017 non-null  object \n",
      " 9   Order_Quantity    113029 non-null  int64  \n",
      " 10  Unit_Cost         113029 non-null  int64  \n",
      " 11  Unit_Price        113029 non-null  int64  \n",
      " 12  Profit            113018 non-null  float64\n",
      " 13  Cost              113011 non-null  float64\n",
      " 14  Revenue           113005 non-null  float64\n",
      "dtypes: float64(4), int64(3), object(8)\n",
      "memory usage: 12.9+ MB\n"
     ]
    }
   ],
   "source": [
    "# to show basic info\n",
    "df.info()"
   ]
  },
  {
   "cell_type": "code",
   "execution_count": 17,
   "id": "e53acf86",
   "metadata": {},
   "outputs": [
    {
     "data": {
      "text/plain": [
       "Date                1672\n",
       "Customer_Age          70\n",
       "Age_Group              4\n",
       "Customer_Gender        6\n",
       "Country                6\n",
       "State                 53\n",
       "Product_Category       3\n",
       "Sub_Category          17\n",
       "Product              130\n",
       "Order_Quantity        32\n",
       "Unit_Cost             34\n",
       "Unit_Price            36\n",
       "Profit              1256\n",
       "Cost                 360\n",
       "Revenue             1876\n",
       "dtype: int64"
      ]
     },
     "execution_count": 17,
     "metadata": {},
     "output_type": "execute_result"
    }
   ],
   "source": [
    "# to show all dataset unique value\n",
    "df.nunique()"
   ]
  },
  {
   "cell_type": "code",
   "execution_count": 14,
   "id": "5c8d2b4a",
   "metadata": {},
   "outputs": [
    {
     "data": {
      "text/html": [
       "<div>\n",
       "<style scoped>\n",
       "    .dataframe tbody tr th:only-of-type {\n",
       "        vertical-align: middle;\n",
       "    }\n",
       "\n",
       "    .dataframe tbody tr th {\n",
       "        vertical-align: top;\n",
       "    }\n",
       "\n",
       "    .dataframe thead th {\n",
       "        text-align: right;\n",
       "    }\n",
       "</style>\n",
       "<table border=\"1\" class=\"dataframe\">\n",
       "  <thead>\n",
       "    <tr style=\"text-align: right;\">\n",
       "      <th></th>\n",
       "      <th>Date</th>\n",
       "      <th>Age_Group</th>\n",
       "      <th>Customer_Gender</th>\n",
       "      <th>Country</th>\n",
       "      <th>State</th>\n",
       "      <th>Product_Category</th>\n",
       "      <th>Sub_Category</th>\n",
       "      <th>Product</th>\n",
       "    </tr>\n",
       "  </thead>\n",
       "  <tbody>\n",
       "    <tr>\n",
       "      <th>count</th>\n",
       "      <td>113029</td>\n",
       "      <td>112975</td>\n",
       "      <td>113029</td>\n",
       "      <td>113025</td>\n",
       "      <td>113020</td>\n",
       "      <td>113028</td>\n",
       "      <td>113029</td>\n",
       "      <td>113017</td>\n",
       "    </tr>\n",
       "    <tr>\n",
       "      <th>unique</th>\n",
       "      <td>1672</td>\n",
       "      <td>4</td>\n",
       "      <td>6</td>\n",
       "      <td>6</td>\n",
       "      <td>53</td>\n",
       "      <td>3</td>\n",
       "      <td>17</td>\n",
       "      <td>130</td>\n",
       "    </tr>\n",
       "    <tr>\n",
       "      <th>top</th>\n",
       "      <td>3/1/2022</td>\n",
       "      <td>Adults (35-64)</td>\n",
       "      <td>M</td>\n",
       "      <td>United States</td>\n",
       "      <td>California</td>\n",
       "      <td>Accessories</td>\n",
       "      <td>Tires and Tubes</td>\n",
       "      <td>Water Bottle - 30 oz.</td>\n",
       "    </tr>\n",
       "    <tr>\n",
       "      <th>freq</th>\n",
       "      <td>297</td>\n",
       "      <td>55820</td>\n",
       "      <td>58296</td>\n",
       "      <td>39194</td>\n",
       "      <td>22443</td>\n",
       "      <td>70111</td>\n",
       "      <td>33870</td>\n",
       "      <td>10794</td>\n",
       "    </tr>\n",
       "  </tbody>\n",
       "</table>\n",
       "</div>"
      ],
      "text/plain": [
       "            Date       Age_Group Customer_Gender        Country       State  \\\n",
       "count     113029          112975          113029         113025      113020   \n",
       "unique      1672               4               6              6          53   \n",
       "top     3/1/2022  Adults (35-64)               M  United States  California   \n",
       "freq         297           55820           58296          39194       22443   \n",
       "\n",
       "       Product_Category     Sub_Category                Product  \n",
       "count            113028           113029                 113017  \n",
       "unique                3               17                    130  \n",
       "top         Accessories  Tires and Tubes  Water Bottle - 30 oz.  \n",
       "freq              70111            33870                  10794  "
      ]
     },
     "execution_count": 14,
     "metadata": {},
     "output_type": "execute_result"
    }
   ],
   "source": [
    "# to show descriptive statistics for object\n",
    "df.describe(include='object')"
   ]
  },
  {
   "cell_type": "code",
   "execution_count": 15,
   "id": "75b54742",
   "metadata": {},
   "outputs": [
    {
     "data": {
      "text/html": [
       "<div>\n",
       "<style scoped>\n",
       "    .dataframe tbody tr th:only-of-type {\n",
       "        vertical-align: middle;\n",
       "    }\n",
       "\n",
       "    .dataframe tbody tr th {\n",
       "        vertical-align: top;\n",
       "    }\n",
       "\n",
       "    .dataframe thead th {\n",
       "        text-align: right;\n",
       "    }\n",
       "</style>\n",
       "<table border=\"1\" class=\"dataframe\">\n",
       "  <thead>\n",
       "    <tr style=\"text-align: right;\">\n",
       "      <th></th>\n",
       "      <th>Customer_Age</th>\n",
       "      <th>Order_Quantity</th>\n",
       "      <th>Unit_Cost</th>\n",
       "      <th>Unit_Price</th>\n",
       "      <th>Profit</th>\n",
       "      <th>Cost</th>\n",
       "      <th>Revenue</th>\n",
       "    </tr>\n",
       "  </thead>\n",
       "  <tbody>\n",
       "    <tr>\n",
       "      <th>count</th>\n",
       "      <td>112998.000000</td>\n",
       "      <td>113029.000000</td>\n",
       "      <td>113029.000000</td>\n",
       "      <td>113029.000000</td>\n",
       "      <td>113018.000000</td>\n",
       "      <td>113011.000000</td>\n",
       "      <td>113005.000000</td>\n",
       "    </tr>\n",
       "    <tr>\n",
       "      <th>mean</th>\n",
       "      <td>35.920149</td>\n",
       "      <td>11.903352</td>\n",
       "      <td>267.275841</td>\n",
       "      <td>452.907679</td>\n",
       "      <td>285.059194</td>\n",
       "      <td>469.264806</td>\n",
       "      <td>754.280678</td>\n",
       "    </tr>\n",
       "    <tr>\n",
       "      <th>std</th>\n",
       "      <td>11.023115</td>\n",
       "      <td>9.561449</td>\n",
       "      <td>549.881260</td>\n",
       "      <td>922.148059</td>\n",
       "      <td>453.937030</td>\n",
       "      <td>884.911787</td>\n",
       "      <td>1309.206474</td>\n",
       "    </tr>\n",
       "    <tr>\n",
       "      <th>min</th>\n",
       "      <td>17.000000</td>\n",
       "      <td>1.000000</td>\n",
       "      <td>1.000000</td>\n",
       "      <td>2.000000</td>\n",
       "      <td>-30.000000</td>\n",
       "      <td>1.000000</td>\n",
       "      <td>2.000000</td>\n",
       "    </tr>\n",
       "    <tr>\n",
       "      <th>25%</th>\n",
       "      <td>28.000000</td>\n",
       "      <td>2.000000</td>\n",
       "      <td>2.000000</td>\n",
       "      <td>5.000000</td>\n",
       "      <td>29.000000</td>\n",
       "      <td>28.000000</td>\n",
       "      <td>63.000000</td>\n",
       "    </tr>\n",
       "    <tr>\n",
       "      <th>50%</th>\n",
       "      <td>35.000000</td>\n",
       "      <td>10.000000</td>\n",
       "      <td>9.000000</td>\n",
       "      <td>24.000000</td>\n",
       "      <td>101.000000</td>\n",
       "      <td>108.000000</td>\n",
       "      <td>222.000000</td>\n",
       "    </tr>\n",
       "    <tr>\n",
       "      <th>75%</th>\n",
       "      <td>43.000000</td>\n",
       "      <td>20.000000</td>\n",
       "      <td>42.000000</td>\n",
       "      <td>70.000000</td>\n",
       "      <td>358.000000</td>\n",
       "      <td>420.000000</td>\n",
       "      <td>799.000000</td>\n",
       "    </tr>\n",
       "    <tr>\n",
       "      <th>max</th>\n",
       "      <td>87.000000</td>\n",
       "      <td>32.000000</td>\n",
       "      <td>2171.000000</td>\n",
       "      <td>3578.000000</td>\n",
       "      <td>15096.000000</td>\n",
       "      <td>42978.000000</td>\n",
       "      <td>58074.000000</td>\n",
       "    </tr>\n",
       "  </tbody>\n",
       "</table>\n",
       "</div>"
      ],
      "text/plain": [
       "        Customer_Age  Order_Quantity      Unit_Cost     Unit_Price  \\\n",
       "count  112998.000000   113029.000000  113029.000000  113029.000000   \n",
       "mean       35.920149       11.903352     267.275841     452.907679   \n",
       "std        11.023115        9.561449     549.881260     922.148059   \n",
       "min        17.000000        1.000000       1.000000       2.000000   \n",
       "25%        28.000000        2.000000       2.000000       5.000000   \n",
       "50%        35.000000       10.000000       9.000000      24.000000   \n",
       "75%        43.000000       20.000000      42.000000      70.000000   \n",
       "max        87.000000       32.000000    2171.000000    3578.000000   \n",
       "\n",
       "              Profit           Cost        Revenue  \n",
       "count  113018.000000  113011.000000  113005.000000  \n",
       "mean      285.059194     469.264806     754.280678  \n",
       "std       453.937030     884.911787    1309.206474  \n",
       "min       -30.000000       1.000000       2.000000  \n",
       "25%        29.000000      28.000000      63.000000  \n",
       "50%       101.000000     108.000000     222.000000  \n",
       "75%       358.000000     420.000000     799.000000  \n",
       "max     15096.000000   42978.000000   58074.000000  "
      ]
     },
     "execution_count": 15,
     "metadata": {},
     "output_type": "execute_result"
    }
   ],
   "source": [
    "# to show descriptive statistics for numerical\n",
    "df.describe()"
   ]
  },
  {
   "cell_type": "code",
   "execution_count": null,
   "id": "b66738cb",
   "metadata": {},
   "outputs": [],
   "source": [
    "Insight: "
   ]
  },
  {
   "cell_type": "markdown",
   "id": "ddbe53a9",
   "metadata": {},
   "source": [
    "# Data Cleaning:"
   ]
  },
  {
   "cell_type": "code",
   "execution_count": 22,
   "id": "6fa5dcef",
   "metadata": {},
   "outputs": [
    {
     "data": {
      "text/plain": [
       "1022"
      ]
     },
     "execution_count": 22,
     "metadata": {},
     "output_type": "execute_result"
    }
   ],
   "source": [
    "# fisrt check duplicated value\n",
    "df.duplicated().sum()"
   ]
  },
  {
   "cell_type": "code",
   "execution_count": 24,
   "id": "a1d46fa8",
   "metadata": {},
   "outputs": [],
   "source": [
    "# Removing duplicated value\n",
    "df.drop_duplicates(inplace=True)"
   ]
  },
  {
   "cell_type": "code",
   "execution_count": 25,
   "id": "aee3fc0b",
   "metadata": {},
   "outputs": [
    {
     "data": {
      "text/plain": [
       "0"
      ]
     },
     "execution_count": 25,
     "metadata": {},
     "output_type": "execute_result"
    }
   ],
   "source": [
    "# after dealing duplicated value again check duplicated value\n",
    "df.duplicated().sum()"
   ]
  },
  {
   "cell_type": "markdown",
   "id": "e2352bb1",
   "metadata": {},
   "source": [
    "Insight: Dataset Has no Duplicated value"
   ]
  },
  {
   "cell_type": "code",
   "execution_count": 39,
   "id": "84f5a08c",
   "metadata": {},
   "outputs": [],
   "source": [
    "#Checking Unique value per Columns\n",
    "df['Customer_Gender'].unique()\n",
    "df['Customer_Gender']=df['Customer_Gender'].map({'M':'Male','F':'Female','male':'Male','female':'Female'})"
   ]
  },
  {
   "cell_type": "code",
   "execution_count": 42,
   "id": "4dc70a95",
   "metadata": {},
   "outputs": [
    {
     "data": {
      "text/plain": [
       "Date                 0\n",
       "Customer_Age        31\n",
       "Age_Group           54\n",
       "Customer_Gender     12\n",
       "Country              4\n",
       "State                9\n",
       "Product_Category     1\n",
       "Sub_Category         0\n",
       "Product             12\n",
       "Order_Quantity       0\n",
       "Unit_Cost            0\n",
       "Unit_Price           0\n",
       "Profit              11\n",
       "Cost                18\n",
       "Revenue             24\n",
       "dtype: int64"
      ]
     },
     "execution_count": 42,
     "metadata": {},
     "output_type": "execute_result"
    }
   ],
   "source": [
    "#checking missing value\n",
    "df.isnull().sum()"
   ]
  },
  {
   "cell_type": "code",
   "execution_count": 45,
   "id": "c85caa7a",
   "metadata": {},
   "outputs": [
    {
     "data": {
      "image/png": "[encoded data removed]",
      "text/plain": [
       "<Figure size 432x288 with 2 Axes>"
      ]
     },
     "metadata": {
      "needs_background": "light"
     },
     "output_type": "display_data"
    }
   ],
   "source": [
    "# plot missing value\n",
    "sns.heatmap(df.isnull(),yticklabels=False,cmap='viridis')\n",
    "plt.title('Missing Value Plot');"
   ]
  },
  {
   "cell_type": "code",
   "execution_count": 46,
   "id": "721b6884",
   "metadata": {},
   "outputs": [
    {
     "data": {
      "text/plain": [
       "Age_Group           0.048211\n",
       "Customer_Age        0.027677\n",
       "Revenue             0.021427\n",
       "Cost                0.016070\n",
       "Customer_Gender     0.010714\n",
       "Product             0.010714\n",
       "Profit              0.009821\n",
       "State               0.008035\n",
       "Country             0.003571\n",
       "Product_Category    0.000893\n",
       "Date                0.000000\n",
       "Sub_Category        0.000000\n",
       "Order_Quantity      0.000000\n",
       "Unit_Cost           0.000000\n",
       "Unit_Price          0.000000\n",
       "dtype: float64"
      ]
     },
     "execution_count": 46,
     "metadata": {},
     "output_type": "execute_result"
    }
   ],
   "source": [
    "#checking percentage missing value\n",
    "pct=(df.isnull().sum()/len(df))*100\n",
    "pct.sort_values(ascending=False)"
   ]
  },
  {
   "cell_type": "code",
   "execution_count": 75,
   "id": "d59d3d1c",
   "metadata": {},
   "outputs": [],
   "source": [
    "# Handelling Missing Value All Columns ( Mean,Mode uses)\n",
    "df['Age_Group']=df['Age_Group'].fillna(df['Age_Group'].mode()[0])\n",
    "df['Customer_Age']=df['Customer_Age'].fillna(df['Customer_Age'].median())\n",
    "df['Revenue']=df['Revenue'].fillna(round(df['Revenue'].mean(),1))\n",
    "df['Customer_Gender']=df['Customer_Gender'].fillna(df['Customer_Gender'].mode()[0])\n",
    "df['Country']=df['Country'].fillna(df['Country'].mode()[0])\n",
    "df['State']=df['State'].fillna(df['State'].mode()[0])\n",
    "df['Product_Category']=df['Product_Category'].fillna(df['Product_Category'].mode()[0])\n",
    "df['Product']=df['Product'].fillna(df['Product'].mode()[0])\n",
    "df['Profit']=df['Profit'].fillna(round(df['Profit'].mean(),1))\n",
    "df['Cost']=df['Cost'].fillna(round(df['Cost'].mean(),1))"
   ]
  },
  {
   "cell_type": "code",
   "execution_count": 77,
   "id": "4f80c7f2",
   "metadata": {},
   "outputs": [
    {
     "data": {
      "text/plain": [
       "Date                0\n",
       "Customer_Age        0\n",
       "Age_Group           0\n",
       "Customer_Gender     0\n",
       "Country             0\n",
       "State               0\n",
       "Product_Category    0\n",
       "Sub_Category        0\n",
       "Product             0\n",
       "Order_Quantity      0\n",
       "Unit_Cost           0\n",
       "Unit_Price          0\n",
       "Profit              0\n",
       "Cost                0\n",
       "Revenue             0\n",
       "dtype: int64"
      ]
     },
     "execution_count": 77,
     "metadata": {},
     "output_type": "execute_result"
    }
   ],
   "source": [
    "# After Handelling All missing value checking missing value\n",
    "df.isnull().sum()"
   ]
  },
  {
   "cell_type": "markdown",
   "id": "279bc333",
   "metadata": {},
   "source": [
    "Insight: Our Dataset has no missing Values"
   ]
  },
  {
   "cell_type": "code",
   "execution_count": 78,
   "id": "607e0c4d",
   "metadata": {},
   "outputs": [],
   "source": [
    "# Date columns converted datetime\n",
    "df['Date']=pd.to_datetime(df['Date'])"
   ]
  },
  {
   "cell_type": "code",
   "execution_count": 80,
   "id": "0255c59f",
   "metadata": {},
   "outputs": [
    {
     "data": {
      "text/plain": [
       "Date                datetime64[ns]\n",
       "Customer_Age               float64\n",
       "Age_Group                   object\n",
       "Customer_Gender             object\n",
       "Country                     object\n",
       "State                       object\n",
       "Product_Category            object\n",
       "Sub_Category                object\n",
       "Product                     object\n",
       "Order_Quantity               int64\n",
       "Unit_Cost                    int64\n",
       "Unit_Price                   int64\n",
       "Profit                     float64\n",
       "Cost                       float64\n",
       "Revenue                    float64\n",
       "dtype: object"
      ]
     },
     "execution_count": 80,
     "metadata": {},
     "output_type": "execute_result"
    }
   ],
   "source": [
    "# again check data types afetr cleaning part\n",
    "df.dtypes"
   ]
  },
  {
   "cell_type": "markdown",
   "id": "ea01b692",
   "metadata": {},
   "source": [
    "Insight: Now Our Data set is clean. Now we go to next step"
   ]
  },
  {
   "cell_type": "markdown",
   "id": "3d507970",
   "metadata": {},
   "source": [
    "# Feature Engineering:"
   ]
  },
  {
   "cell_type": "code",
   "execution_count": 83,
   "id": "507dba19",
   "metadata": {},
   "outputs": [],
   "source": [
    "# create index\n",
    "df['Order_Id']=df.index"
   ]
  },
  {
   "cell_type": "code",
   "execution_count": 86,
   "id": "0ae2f0f4",
   "metadata": {},
   "outputs": [],
   "source": [
    "# Extract Day,Month,Year,Quarter,Month_Name,Day_Name from date columns\n",
    "df['Day']=df['Date'].dt.day\n",
    "df['Month']=df['Date'].dt.month\n",
    "df['Year']=df['Date'].dt.year\n",
    "df['Quarter']=df['Date'].dt.quarter\n",
    "df['Day_Name']=df['Date'].dt.day_name()\n",
    "df['Month_Name']=df['Date'].dt.month_name()"
   ]
  },
  {
   "cell_type": "code",
   "execution_count": 98,
   "id": "4a8891d8",
   "metadata": {},
   "outputs": [],
   "source": [
    "# create weekend Flag \n",
    "def weekend(feature):\n",
    "    if feature=='Friday':\n",
    "        return 1\n",
    "    elif feature=='Saturday':\n",
    "        return 1\n",
    "    else:\n",
    "        return 0"
   ]
  },
  {
   "cell_type": "code",
   "execution_count": 100,
   "id": "f1fca76e",
   "metadata": {},
   "outputs": [],
   "source": [
    "df['Weekend_Flag'] = df['Day_Name'].apply(weekend)"
   ]
  },
  {
   "cell_type": "code",
   "execution_count": 106,
   "id": "d1125f1d",
   "metadata": {},
   "outputs": [],
   "source": [
    "# Convert Age to Customer Age Group\n",
    "def age(feature):\n",
    "    if feature < 25:\n",
    "        return 'Youth(<25)'\n",
    "    elif feature>=25 and feature <=34:\n",
    "        return 'Young Adults(25-34)'\n",
    "    elif feature>=35 and feature <=64:\n",
    "        return 'Adults(35-64)'\n",
    "    else:\n",
    "        return 'Seniors(>64)'"
   ]
  },
  {
   "cell_type": "code",
   "execution_count": 108,
   "id": "fcff1ad7",
   "metadata": {},
   "outputs": [],
   "source": [
    "df['Customer_Age_Group']=df['Customer_Age'].apply(age)"
   ]
  },
  {
   "cell_type": "code",
   "execution_count": 113,
   "id": "a8ddc13e",
   "metadata": {},
   "outputs": [],
   "source": [
    "# drop columns\n",
    "df.drop(columns=['Age_Group'],axis=1,inplace=True)"
   ]
  },
  {
   "cell_type": "code",
   "execution_count": 116,
   "id": "22f0af91",
   "metadata": {},
   "outputs": [
    {
     "data": {
      "text/html": [
       "<div>\n",
       "<style scoped>\n",
       "    .dataframe tbody tr th:only-of-type {\n",
       "        vertical-align: middle;\n",
       "    }\n",
       "\n",
       "    .dataframe tbody tr th {\n",
       "        vertical-align: top;\n",
       "    }\n",
       "\n",
       "    .dataframe thead th {\n",
       "        text-align: right;\n",
       "    }\n",
       "</style>\n",
       "<table border=\"1\" class=\"dataframe\">\n",
       "  <thead>\n",
       "    <tr style=\"text-align: right;\">\n",
       "      <th></th>\n",
       "      <th>Date</th>\n",
       "      <th>Customer_Age</th>\n",
       "      <th>Customer_Gender</th>\n",
       "      <th>Country</th>\n",
       "      <th>State</th>\n",
       "      <th>Product_Category</th>\n",
       "      <th>Sub_Category</th>\n",
       "      <th>Product</th>\n",
       "      <th>Order_Quantity</th>\n",
       "      <th>Unit_Cost</th>\n",
       "      <th>...</th>\n",
       "      <th>Revenue</th>\n",
       "      <th>Order_Id</th>\n",
       "      <th>Day</th>\n",
       "      <th>Month</th>\n",
       "      <th>Year</th>\n",
       "      <th>Quarter</th>\n",
       "      <th>Day_Name</th>\n",
       "      <th>Month_Name</th>\n",
       "      <th>Weekend_Flag</th>\n",
       "      <th>Customer_Age_Group</th>\n",
       "    </tr>\n",
       "  </thead>\n",
       "  <tbody>\n",
       "    <tr>\n",
       "      <th>0</th>\n",
       "      <td>2020-11-26</td>\n",
       "      <td>19.0</td>\n",
       "      <td>Male</td>\n",
       "      <td>Canada</td>\n",
       "      <td>British Columbia</td>\n",
       "      <td>Accessories</td>\n",
       "      <td>Bike Racks</td>\n",
       "      <td>Hitch Rack - 4-Bike</td>\n",
       "      <td>8</td>\n",
       "      <td>45</td>\n",
       "      <td>...</td>\n",
       "      <td>950.0</td>\n",
       "      <td>0</td>\n",
       "      <td>26</td>\n",
       "      <td>11</td>\n",
       "      <td>2020</td>\n",
       "      <td>4</td>\n",
       "      <td>Thursday</td>\n",
       "      <td>November</td>\n",
       "      <td>0</td>\n",
       "      <td>Youth(&lt;25)</td>\n",
       "    </tr>\n",
       "    <tr>\n",
       "      <th>1</th>\n",
       "      <td>2022-11-26</td>\n",
       "      <td>19.0</td>\n",
       "      <td>Male</td>\n",
       "      <td>Canada</td>\n",
       "      <td>British Columbia</td>\n",
       "      <td>Accessories</td>\n",
       "      <td>Bike Racks</td>\n",
       "      <td>Hitch Rack - 4-Bike</td>\n",
       "      <td>8</td>\n",
       "      <td>45</td>\n",
       "      <td>...</td>\n",
       "      <td>950.0</td>\n",
       "      <td>1</td>\n",
       "      <td>26</td>\n",
       "      <td>11</td>\n",
       "      <td>2022</td>\n",
       "      <td>4</td>\n",
       "      <td>Saturday</td>\n",
       "      <td>November</td>\n",
       "      <td>1</td>\n",
       "      <td>Youth(&lt;25)</td>\n",
       "    </tr>\n",
       "  </tbody>\n",
       "</table>\n",
       "<p>2 rows × 23 columns</p>\n",
       "</div>"
      ],
      "text/plain": [
       "        Date  Customer_Age Customer_Gender Country             State  \\\n",
       "0 2020-11-26          19.0            Male  Canada  British Columbia   \n",
       "1 2022-11-26          19.0            Male  Canada  British Columbia   \n",
       "\n",
       "  Product_Category Sub_Category              Product  Order_Quantity  \\\n",
       "0      Accessories   Bike Racks  Hitch Rack - 4-Bike               8   \n",
       "1      Accessories   Bike Racks  Hitch Rack - 4-Bike               8   \n",
       "\n",
       "   Unit_Cost  ...  Revenue  Order_Id  Day  Month  Year  Quarter  Day_Name  \\\n",
       "0         45  ...    950.0         0   26     11  2020        4  Thursday   \n",
       "1         45  ...    950.0         1   26     11  2022        4  Saturday   \n",
       "\n",
       "   Month_Name  Weekend_Flag Customer_Age_Group  \n",
       "0    November             0         Youth(<25)  \n",
       "1    November             1         Youth(<25)  \n",
       "\n",
       "[2 rows x 23 columns]"
      ]
     },
     "execution_count": 116,
     "metadata": {},
     "output_type": "execute_result"
    }
   ],
   "source": [
    "df.head(2)"
   ]
  },
  {
   "cell_type": "code",
   "execution_count": 118,
   "id": "7bc0bc7d",
   "metadata": {},
   "outputs": [],
   "source": [
    "#Export Data\n",
    "df.to_csv(r\"F:\\Data Analyst\\Project\\Analytis Engineer Project\\1. Sales Dataset Clean.csv\")"
   ]
  },
  {
   "cell_type": "markdown",
   "id": "3a326c7f",
   "metadata": {},
   "source": [
    "# Data Modelling Prototype:"
   ]
  },
  {
   "cell_type": "markdown",
   "id": "85a53f85",
   "metadata": {},
   "source": [
    "Bike_date_dim"
   ]
  },
  {
   "cell_type": "code",
   "execution_count": 126,
   "id": "b8b7e868",
   "metadata": {},
   "outputs": [],
   "source": [
    "Bike_date_dim=df[['Date','Day','Month','Year','Quarter','Day_Name','Month_Name','Weekend_Flag']].reset_index()"
   ]
  },
  {
   "cell_type": "code",
   "execution_count": 127,
   "id": "a24252dc",
   "metadata": {},
   "outputs": [],
   "source": [
    "Bike_date_dim['Date_Id']=Bike_date_dim.index"
   ]
  },
  {
   "cell_type": "code",
   "execution_count": 133,
   "id": "13897c37",
   "metadata": {},
   "outputs": [],
   "source": [
    "Bike_date_dim.drop(columns=['index'],axis=1,inplace=True)"
   ]
  },
  {
   "cell_type": "code",
   "execution_count": 134,
   "id": "c971eb34",
   "metadata": {},
   "outputs": [
    {
     "data": {
      "text/html": [
       "<div>\n",
       "<style scoped>\n",
       "    .dataframe tbody tr th:only-of-type {\n",
       "        vertical-align: middle;\n",
       "    }\n",
       "\n",
       "    .dataframe tbody tr th {\n",
       "        vertical-align: top;\n",
       "    }\n",
       "\n",
       "    .dataframe thead th {\n",
       "        text-align: right;\n",
       "    }\n",
       "</style>\n",
       "<table border=\"1\" class=\"dataframe\">\n",
       "  <thead>\n",
       "    <tr style=\"text-align: right;\">\n",
       "      <th></th>\n",
       "      <th>Date</th>\n",
       "      <th>Day</th>\n",
       "      <th>Month</th>\n",
       "      <th>Year</th>\n",
       "      <th>Quarter</th>\n",
       "      <th>Day_Name</th>\n",
       "      <th>Month_Name</th>\n",
       "      <th>Weekend_Flag</th>\n",
       "      <th>Date_Id</th>\n",
       "    </tr>\n",
       "  </thead>\n",
       "  <tbody>\n",
       "    <tr>\n",
       "      <th>0</th>\n",
       "      <td>2020-11-26</td>\n",
       "      <td>26</td>\n",
       "      <td>11</td>\n",
       "      <td>2020</td>\n",
       "      <td>4</td>\n",
       "      <td>Thursday</td>\n",
       "      <td>November</td>\n",
       "      <td>0</td>\n",
       "      <td>0</td>\n",
       "    </tr>\n",
       "    <tr>\n",
       "      <th>1</th>\n",
       "      <td>2022-11-26</td>\n",
       "      <td>26</td>\n",
       "      <td>11</td>\n",
       "      <td>2022</td>\n",
       "      <td>4</td>\n",
       "      <td>Saturday</td>\n",
       "      <td>November</td>\n",
       "      <td>1</td>\n",
       "      <td>1</td>\n",
       "    </tr>\n",
       "  </tbody>\n",
       "</table>\n",
       "</div>"
      ],
      "text/plain": [
       "        Date  Day  Month  Year  Quarter  Day_Name Month_Name  Weekend_Flag  \\\n",
       "0 2020-11-26   26     11  2020        4  Thursday   November             0   \n",
       "1 2022-11-26   26     11  2022        4  Saturday   November             1   \n",
       "\n",
       "   Date_Id  \n",
       "0        0  \n",
       "1        1  "
      ]
     },
     "execution_count": 134,
     "metadata": {},
     "output_type": "execute_result"
    }
   ],
   "source": [
    "Bike_date_dim.head(2)"
   ]
  },
  {
   "cell_type": "code",
   "execution_count": 167,
   "id": "6ee189fb",
   "metadata": {},
   "outputs": [],
   "source": [
    "Bike_date_dim.to_csv(r\"F:\\Data Analyst\\Project\\Analytis Engineer Project\\Bike_date_dim.csv\")"
   ]
  },
  {
   "cell_type": "markdown",
   "id": "978ef703",
   "metadata": {},
   "source": [
    "Bike Customer Dim"
   ]
  },
  {
   "cell_type": "code",
   "execution_count": 136,
   "id": "2fe5406b",
   "metadata": {},
   "outputs": [],
   "source": [
    "Bike_Customr_dim=df[['Customer_Age','Customer_Gender','Customer_Age_Group']].reset_index()"
   ]
  },
  {
   "cell_type": "code",
   "execution_count": 138,
   "id": "ca691c97",
   "metadata": {},
   "outputs": [],
   "source": [
    "Bike_Customr_dim.rename(columns={'index':'Customer_Id'},inplace=True)"
   ]
  },
  {
   "cell_type": "code",
   "execution_count": 140,
   "id": "91dfb284",
   "metadata": {},
   "outputs": [
    {
     "data": {
      "text/html": [
       "<div>\n",
       "<style scoped>\n",
       "    .dataframe tbody tr th:only-of-type {\n",
       "        vertical-align: middle;\n",
       "    }\n",
       "\n",
       "    .dataframe tbody tr th {\n",
       "        vertical-align: top;\n",
       "    }\n",
       "\n",
       "    .dataframe thead th {\n",
       "        text-align: right;\n",
       "    }\n",
       "</style>\n",
       "<table border=\"1\" class=\"dataframe\">\n",
       "  <thead>\n",
       "    <tr style=\"text-align: right;\">\n",
       "      <th></th>\n",
       "      <th>Customer_Id</th>\n",
       "      <th>Customer_Age</th>\n",
       "      <th>Customer_Gender</th>\n",
       "      <th>Customer_Age_Group</th>\n",
       "    </tr>\n",
       "  </thead>\n",
       "  <tbody>\n",
       "    <tr>\n",
       "      <th>0</th>\n",
       "      <td>0</td>\n",
       "      <td>19.0</td>\n",
       "      <td>Male</td>\n",
       "      <td>Youth(&lt;25)</td>\n",
       "    </tr>\n",
       "    <tr>\n",
       "      <th>1</th>\n",
       "      <td>1</td>\n",
       "      <td>19.0</td>\n",
       "      <td>Male</td>\n",
       "      <td>Youth(&lt;25)</td>\n",
       "    </tr>\n",
       "  </tbody>\n",
       "</table>\n",
       "</div>"
      ],
      "text/plain": [
       "   Customer_Id  Customer_Age Customer_Gender Customer_Age_Group\n",
       "0            0          19.0            Male         Youth(<25)\n",
       "1            1          19.0            Male         Youth(<25)"
      ]
     },
     "execution_count": 140,
     "metadata": {},
     "output_type": "execute_result"
    }
   ],
   "source": [
    "Bike_Customr_dim.head(2)"
   ]
  },
  {
   "cell_type": "code",
   "execution_count": 168,
   "id": "dec133f7",
   "metadata": {},
   "outputs": [],
   "source": [
    "Bike_Customr_dim.to_csv(r\"F:\\Data Analyst\\Project\\Analytis Engineer Project\\Bike_Customr_dim.csv\")"
   ]
  },
  {
   "cell_type": "markdown",
   "id": "d2901cb9",
   "metadata": {},
   "source": [
    "Bike_demographic_dim"
   ]
  },
  {
   "cell_type": "code",
   "execution_count": 144,
   "id": "65627a60",
   "metadata": {},
   "outputs": [],
   "source": [
    "Bike_demographic_dim=df[['State','Country']].reset_index()"
   ]
  },
  {
   "cell_type": "code",
   "execution_count": 145,
   "id": "239629fc",
   "metadata": {},
   "outputs": [],
   "source": [
    "Bike_demographic_dim.rename(columns={'index':'Demographic_Id'},inplace=True)"
   ]
  },
  {
   "cell_type": "code",
   "execution_count": 154,
   "id": "09e41eff",
   "metadata": {},
   "outputs": [
    {
     "data": {
      "text/html": [
       "<div>\n",
       "<style scoped>\n",
       "    .dataframe tbody tr th:only-of-type {\n",
       "        vertical-align: middle;\n",
       "    }\n",
       "\n",
       "    .dataframe tbody tr th {\n",
       "        vertical-align: top;\n",
       "    }\n",
       "\n",
       "    .dataframe thead th {\n",
       "        text-align: right;\n",
       "    }\n",
       "</style>\n",
       "<table border=\"1\" class=\"dataframe\">\n",
       "  <thead>\n",
       "    <tr style=\"text-align: right;\">\n",
       "      <th></th>\n",
       "      <th>Demographic_Id</th>\n",
       "      <th>State</th>\n",
       "      <th>Country</th>\n",
       "    </tr>\n",
       "  </thead>\n",
       "  <tbody>\n",
       "    <tr>\n",
       "      <th>0</th>\n",
       "      <td>0</td>\n",
       "      <td>British Columbia</td>\n",
       "      <td>Canada</td>\n",
       "    </tr>\n",
       "    <tr>\n",
       "      <th>1</th>\n",
       "      <td>1</td>\n",
       "      <td>British Columbia</td>\n",
       "      <td>Canada</td>\n",
       "    </tr>\n",
       "  </tbody>\n",
       "</table>\n",
       "</div>"
      ],
      "text/plain": [
       "   Demographic_Id             State Country\n",
       "0               0  British Columbia  Canada\n",
       "1               1  British Columbia  Canada"
      ]
     },
     "execution_count": 154,
     "metadata": {},
     "output_type": "execute_result"
    }
   ],
   "source": [
    "Bike_demographic_dim.head(2)"
   ]
  },
  {
   "cell_type": "code",
   "execution_count": 169,
   "id": "9636b2ca",
   "metadata": {},
   "outputs": [],
   "source": [
    "Bike_demographic_dim.to_csv(r\"F:\\Data Analyst\\Project\\Analytis Engineer Project\\Bike_demographic_dim.csv\")"
   ]
  },
  {
   "cell_type": "markdown",
   "id": "f97a243b",
   "metadata": {},
   "source": [
    "Bike_Product_Dim"
   ]
  },
  {
   "cell_type": "code",
   "execution_count": 161,
   "id": "2fe80d19",
   "metadata": {},
   "outputs": [],
   "source": [
    "Bike_Product_dim=df[['Product_Category','Sub_Category','Product']].reset_index()"
   ]
  },
  {
   "cell_type": "code",
   "execution_count": 162,
   "id": "8edb92bb",
   "metadata": {},
   "outputs": [],
   "source": [
    "Bike_Product_dim.rename(columns={'index':'Product_Id'},inplace=True)"
   ]
  },
  {
   "cell_type": "code",
   "execution_count": 163,
   "id": "0c23f041",
   "metadata": {},
   "outputs": [
    {
     "data": {
      "text/html": [
       "<div>\n",
       "<style scoped>\n",
       "    .dataframe tbody tr th:only-of-type {\n",
       "        vertical-align: middle;\n",
       "    }\n",
       "\n",
       "    .dataframe tbody tr th {\n",
       "        vertical-align: top;\n",
       "    }\n",
       "\n",
       "    .dataframe thead th {\n",
       "        text-align: right;\n",
       "    }\n",
       "</style>\n",
       "<table border=\"1\" class=\"dataframe\">\n",
       "  <thead>\n",
       "    <tr style=\"text-align: right;\">\n",
       "      <th></th>\n",
       "      <th>Product_Id</th>\n",
       "      <th>Product_Category</th>\n",
       "      <th>Sub_Category</th>\n",
       "      <th>Product</th>\n",
       "    </tr>\n",
       "  </thead>\n",
       "  <tbody>\n",
       "    <tr>\n",
       "      <th>0</th>\n",
       "      <td>0</td>\n",
       "      <td>Accessories</td>\n",
       "      <td>Bike Racks</td>\n",
       "      <td>Hitch Rack - 4-Bike</td>\n",
       "    </tr>\n",
       "    <tr>\n",
       "      <th>1</th>\n",
       "      <td>1</td>\n",
       "      <td>Accessories</td>\n",
       "      <td>Bike Racks</td>\n",
       "      <td>Hitch Rack - 4-Bike</td>\n",
       "    </tr>\n",
       "    <tr>\n",
       "      <th>2</th>\n",
       "      <td>2</td>\n",
       "      <td>Accessories</td>\n",
       "      <td>Bike Racks</td>\n",
       "      <td>Hitch Rack - 4-Bike</td>\n",
       "    </tr>\n",
       "    <tr>\n",
       "      <th>3</th>\n",
       "      <td>3</td>\n",
       "      <td>Accessories</td>\n",
       "      <td>Bike Racks</td>\n",
       "      <td>Hitch Rack - 4-Bike</td>\n",
       "    </tr>\n",
       "    <tr>\n",
       "      <th>4</th>\n",
       "      <td>4</td>\n",
       "      <td>Accessories</td>\n",
       "      <td>Bike Racks</td>\n",
       "      <td>Hitch Rack - 4-Bike</td>\n",
       "    </tr>\n",
       "  </tbody>\n",
       "</table>\n",
       "</div>"
      ],
      "text/plain": [
       "   Product_Id Product_Category Sub_Category              Product\n",
       "0           0      Accessories   Bike Racks  Hitch Rack - 4-Bike\n",
       "1           1      Accessories   Bike Racks  Hitch Rack - 4-Bike\n",
       "2           2      Accessories   Bike Racks  Hitch Rack - 4-Bike\n",
       "3           3      Accessories   Bike Racks  Hitch Rack - 4-Bike\n",
       "4           4      Accessories   Bike Racks  Hitch Rack - 4-Bike"
      ]
     },
     "execution_count": 163,
     "metadata": {},
     "output_type": "execute_result"
    }
   ],
   "source": [
    "Bike_Product_dim.head()"
   ]
  },
  {
   "cell_type": "code",
   "execution_count": 170,
   "id": "15bd2ad0",
   "metadata": {},
   "outputs": [],
   "source": [
    "Bike_Product_dim.to_csv(r\"F:\\Data Analyst\\Project\\Analytis Engineer Project\\Bike_Product_dim.csv\")"
   ]
  },
  {
   "cell_type": "markdown",
   "id": "78e880aa",
   "metadata": {},
   "source": [
    "Bike_order_dim"
   ]
  },
  {
   "cell_type": "code",
   "execution_count": 164,
   "id": "022381c6",
   "metadata": {},
   "outputs": [],
   "source": [
    "Bike_order_dim=df[['Order_Quantity','Unit_Cost','Unit_Price','Cost']].reset_index()"
   ]
  },
  {
   "cell_type": "code",
   "execution_count": 165,
   "id": "46d5f52b",
   "metadata": {},
   "outputs": [],
   "source": [
    "Bike_order_dim.rename(columns={'index':'Order_info_Id'},inplace=True)"
   ]
  },
  {
   "cell_type": "code",
   "execution_count": 166,
   "id": "52eae6ed",
   "metadata": {},
   "outputs": [
    {
     "data": {
      "text/html": [
       "<div>\n",
       "<style scoped>\n",
       "    .dataframe tbody tr th:only-of-type {\n",
       "        vertical-align: middle;\n",
       "    }\n",
       "\n",
       "    .dataframe tbody tr th {\n",
       "        vertical-align: top;\n",
       "    }\n",
       "\n",
       "    .dataframe thead th {\n",
       "        text-align: right;\n",
       "    }\n",
       "</style>\n",
       "<table border=\"1\" class=\"dataframe\">\n",
       "  <thead>\n",
       "    <tr style=\"text-align: right;\">\n",
       "      <th></th>\n",
       "      <th>Order_info_Id</th>\n",
       "      <th>Order_Quantity</th>\n",
       "      <th>Unit_Cost</th>\n",
       "      <th>Unit_Price</th>\n",
       "      <th>Cost</th>\n",
       "    </tr>\n",
       "  </thead>\n",
       "  <tbody>\n",
       "    <tr>\n",
       "      <th>0</th>\n",
       "      <td>0</td>\n",
       "      <td>8</td>\n",
       "      <td>45</td>\n",
       "      <td>120</td>\n",
       "      <td>360.0</td>\n",
       "    </tr>\n",
       "    <tr>\n",
       "      <th>1</th>\n",
       "      <td>1</td>\n",
       "      <td>8</td>\n",
       "      <td>45</td>\n",
       "      <td>120</td>\n",
       "      <td>360.0</td>\n",
       "    </tr>\n",
       "    <tr>\n",
       "      <th>2</th>\n",
       "      <td>2</td>\n",
       "      <td>23</td>\n",
       "      <td>45</td>\n",
       "      <td>120</td>\n",
       "      <td>1035.0</td>\n",
       "    </tr>\n",
       "    <tr>\n",
       "      <th>3</th>\n",
       "      <td>3</td>\n",
       "      <td>20</td>\n",
       "      <td>45</td>\n",
       "      <td>120</td>\n",
       "      <td>900.0</td>\n",
       "    </tr>\n",
       "    <tr>\n",
       "      <th>4</th>\n",
       "      <td>4</td>\n",
       "      <td>4</td>\n",
       "      <td>45</td>\n",
       "      <td>120</td>\n",
       "      <td>180.0</td>\n",
       "    </tr>\n",
       "  </tbody>\n",
       "</table>\n",
       "</div>"
      ],
      "text/plain": [
       "   Order_info_Id  Order_Quantity  Unit_Cost  Unit_Price    Cost\n",
       "0              0               8         45         120   360.0\n",
       "1              1               8         45         120   360.0\n",
       "2              2              23         45         120  1035.0\n",
       "3              3              20         45         120   900.0\n",
       "4              4               4         45         120   180.0"
      ]
     },
     "execution_count": 166,
     "metadata": {},
     "output_type": "execute_result"
    }
   ],
   "source": [
    "Bike_order_dim.head()"
   ]
  },
  {
   "cell_type": "code",
   "execution_count": 171,
   "id": "c899b2fd",
   "metadata": {},
   "outputs": [],
   "source": [
    "Bike_order_dim.to_csv(r\"F:\\Data Analyst\\Project\\Analytis Engineer Project\\Bike_order_dim.csv\")"
   ]
  },
  {
   "cell_type": "markdown",
   "id": "5d59729d",
   "metadata": {},
   "source": [
    "# Fact Table"
   ]
  },
  {
   "cell_type": "code",
   "execution_count": 172,
   "id": "a02da63d",
   "metadata": {},
   "outputs": [],
   "source": [
    "fact_table=df.merge(Bike_date_dim,left_on='Order_Id',right_on='Date_Id')\\\n",
    "              .merge(Bike_Customr_dim,left_on='Order_Id',right_on='Customer_Id')\\\n",
    "              .merge(Bike_demographic_dim,left_on='Order_Id',right_on='Demographic_Id')\\\n",
    "              .merge(Bike_Product_dim,left_on='Order_Id',right_on='Product_Id')\\\n",
    "              [['Order_Id','Date_Id','Customer_Id','Demographic_Id','Product_Id','Profit','Revenue']]"
   ]
  },
  {
   "cell_type": "code",
   "execution_count": 173,
   "id": "8b073db6",
   "metadata": {},
   "outputs": [
    {
     "data": {
      "text/plain": [
       "Index(['Order_Id', 'Date_Id', 'Customer_Id', 'Demographic_Id', 'Product_Id',\n",
       "       'Profit', 'Revenue'],\n",
       "      dtype='object')"
      ]
     },
     "execution_count": 173,
     "metadata": {},
     "output_type": "execute_result"
    }
   ],
   "source": [
    "fact_table.columns"
   ]
  },
  {
   "cell_type": "code",
   "execution_count": 174,
   "id": "626cfd84",
   "metadata": {},
   "outputs": [
    {
     "data": {
      "text/html": [
       "<div>\n",
       "<style scoped>\n",
       "    .dataframe tbody tr th:only-of-type {\n",
       "        vertical-align: middle;\n",
       "    }\n",
       "\n",
       "    .dataframe tbody tr th {\n",
       "        vertical-align: top;\n",
       "    }\n",
       "\n",
       "    .dataframe thead th {\n",
       "        text-align: right;\n",
       "    }\n",
       "</style>\n",
       "<table border=\"1\" class=\"dataframe\">\n",
       "  <thead>\n",
       "    <tr style=\"text-align: right;\">\n",
       "      <th></th>\n",
       "      <th>Order_Id</th>\n",
       "      <th>Date_Id</th>\n",
       "      <th>Customer_Id</th>\n",
       "      <th>Demographic_Id</th>\n",
       "      <th>Product_Id</th>\n",
       "      <th>Profit</th>\n",
       "      <th>Revenue</th>\n",
       "    </tr>\n",
       "  </thead>\n",
       "  <tbody>\n",
       "    <tr>\n",
       "      <th>0</th>\n",
       "      <td>0</td>\n",
       "      <td>0</td>\n",
       "      <td>0</td>\n",
       "      <td>0</td>\n",
       "      <td>0</td>\n",
       "      <td>590.0</td>\n",
       "      <td>950.0</td>\n",
       "    </tr>\n",
       "    <tr>\n",
       "      <th>1</th>\n",
       "      <td>1</td>\n",
       "      <td>1</td>\n",
       "      <td>1</td>\n",
       "      <td>1</td>\n",
       "      <td>1</td>\n",
       "      <td>590.0</td>\n",
       "      <td>950.0</td>\n",
       "    </tr>\n",
       "    <tr>\n",
       "      <th>2</th>\n",
       "      <td>2</td>\n",
       "      <td>2</td>\n",
       "      <td>2</td>\n",
       "      <td>2</td>\n",
       "      <td>2</td>\n",
       "      <td>1366.0</td>\n",
       "      <td>2401.0</td>\n",
       "    </tr>\n",
       "    <tr>\n",
       "      <th>3</th>\n",
       "      <td>3</td>\n",
       "      <td>3</td>\n",
       "      <td>3</td>\n",
       "      <td>3</td>\n",
       "      <td>3</td>\n",
       "      <td>1188.0</td>\n",
       "      <td>2088.0</td>\n",
       "    </tr>\n",
       "    <tr>\n",
       "      <th>4</th>\n",
       "      <td>4</td>\n",
       "      <td>4</td>\n",
       "      <td>4</td>\n",
       "      <td>4</td>\n",
       "      <td>4</td>\n",
       "      <td>238.0</td>\n",
       "      <td>418.0</td>\n",
       "    </tr>\n",
       "  </tbody>\n",
       "</table>\n",
       "</div>"
      ],
      "text/plain": [
       "   Order_Id  Date_Id  Customer_Id  Demographic_Id  Product_Id  Profit  Revenue\n",
       "0         0        0            0               0           0   590.0    950.0\n",
       "1         1        1            1               1           1   590.0    950.0\n",
       "2         2        2            2               2           2  1366.0   2401.0\n",
       "3         3        3            3               3           3  1188.0   2088.0\n",
       "4         4        4            4               4           4   238.0    418.0"
      ]
     },
     "execution_count": 174,
     "metadata": {},
     "output_type": "execute_result"
    }
   ],
   "source": [
    "fact_table.head()"
   ]
  },
  {
   "cell_type": "code",
   "execution_count": 175,
   "id": "e2129439",
   "metadata": {},
   "outputs": [],
   "source": [
    "fact_table.to_csv(r\"F:\\Data Analyst\\Project\\Analytis Engineer Project\\fact_table.csv\")"
   ]
  },
  {
   "cell_type": "markdown",
   "id": "8da7c7f8",
   "metadata": {},
   "source": [
    "# Exploratory Data Analysis"
   ]
  },
  {
   "cell_type": "code",
   "execution_count": null,
   "id": "256b644b",
   "metadata": {},
   "outputs": [],
   "source": []
  }
 ],
 "metadata": {
  "kernelspec": {
   "display_name": "Python 3 (ipykernel)",
   "language": "python",
   "name": "python3"
  },
  "language_info": {
   "codemirror_mode": {
    "name": "ipython",
    "version": 3
   },
   "file_extension": ".py",
   "mimetype": "text/x-python",
   "name": "python",
   "nbconvert_exporter": "python",
   "pygments_lexer": "ipython3",
   "version": "3.9.7"
  }
 },
 "nbformat": 4,
 "nbformat_minor": 5
}
